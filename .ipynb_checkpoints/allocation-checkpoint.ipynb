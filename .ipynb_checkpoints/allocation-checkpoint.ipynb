{
 "cells": [
  {
   "cell_type": "code",
   "execution_count": 5,
   "id": "28dc8680-c878-4a5b-b51c-5743b86bfc30",
   "metadata": {},
   "outputs": [],
   "source": [
    "import pandas as pd\n",
    "import numpy as np"
   ]
  },
  {
   "cell_type": "code",
   "execution_count": 20,
   "id": "7ba347d8-e82c-4dfc-b29a-57d188970c68",
   "metadata": {},
   "outputs": [
    {
     "ename": "SyntaxError",
     "evalue": "unterminated string literal (detected at line 3) (1168993757.py, line 3)",
     "output_type": "error",
     "traceback": [
      "\u001b[1;36m  Cell \u001b[1;32mIn [20], line 3\u001b[1;36m\u001b[0m\n\u001b[1;33m    df['quote100 + ((np.random.randint(low=0, high=400, size=len(df)) - 200) / 100)\u001b[0m\n\u001b[1;37m       ^\u001b[0m\n\u001b[1;31mSyntaxError\u001b[0m\u001b[1;31m:\u001b[0m unterminated string literal (detected at line 3)\n"
     ]
    }
   ],
   "source": [
    "df = pd.read_csv('pt.csv')\n",
    "df['price'] = 100 + ((np.random.randint(low=0, high=400, size=len(df)) - 200) / 100)\n",
    "df['quote'] = 100 + ((np.random.randint(low=0, high=400, size=len(df)) - 200) / 100)\n",
    "df['Amount'] = df['Amount'] * 1e6\n",
    "df.loc[df['Side'] == 'S', 'Amount'] = -df.loc[df['Side'] == 'S', 'Amount'] \n",
    "df['proceeds'] = df['price'] * df['Amount'] / 100\n"
   ]
  },
  {
   "cell_type": "code",
   "execution_count": 19,
   "id": "cf423af8-ed52-4176-b930-1cd98bf0d6a0",
   "metadata": {},
   "outputs": [
    {
     "data": {
      "text/plain": [
       "5233500.0"
      ]
     },
     "execution_count": 19,
     "metadata": {},
     "output_type": "execute_result"
    }
   ],
   "source": [
    "df['proceeds'].sum()\n"
   ]
  }
 ],
 "metadata": {
  "kernelspec": {
   "display_name": "Python 3 (ipykernel)",
   "language": "python",
   "name": "python3"
  },
  "language_info": {
   "codemirror_mode": {
    "name": "ipython",
    "version": 3
   },
   "file_extension": ".py",
   "mimetype": "text/x-python",
   "name": "python",
   "nbconvert_exporter": "python",
   "pygments_lexer": "ipython3",
   "version": "3.10.4"
  }
 },
 "nbformat": 4,
 "nbformat_minor": 5
}
