{
 "cells": [
  {
   "cell_type": "code",
   "execution_count": 5,
   "id": "28dc8680-c878-4a5b-b51c-5743b86bfc30",
   "metadata": {},
   "outputs": [],
   "source": [
    "import pandas as pd\n",
    "import numpy as np"
   ]
  },
  {
   "cell_type": "markdown",
   "id": "8346c5f5-37e5-4661-9255-84fe056a21d8",
   "metadata": {},
   "source": [
    "### Adjust allocated to quote"
   ]
  },
  {
   "cell_type": "code",
   "execution_count": 36,
   "id": "7ba347d8-e82c-4dfc-b29a-57d188970c68",
   "metadata": {},
   "outputs": [],
   "source": [
    "df = pd.read_csv('pt.csv')\n",
    "df['price'] = 100 + ((np.random.randint(low=0, high=400, size=len(df)) - 200) / 100)\n",
    "df['quote'] = 100 + ((np.random.randint(low=0, high=400, size=len(df)) - 200) / 100)\n",
    "df['Amount'] = df['Amount'] * 1e6\n",
    "df.loc[df['Side'] == 'S', 'Amount'] = -df.loc[df['Side'] == 'S', 'Amount'] \n",
    "df['proceeds'] = df['price'] * df['Amount'] / 100\n",
    "df['quote_proceeds'] = df['quote'] * df['Amount'] / 100\n",
    "\n",
    "allocation_adjustment = df['quote_proceeds'].sum() / df['proceeds'].sum()\n",
    "df['adjusted_price'] = df['price'] * allocation_adjustment\n",
    "df['adjusted_proceeds'] = df['adjusted_price'] * df['Amount'] / 100"
   ]
  },
  {
   "cell_type": "code",
   "execution_count": 37,
   "id": "cf423af8-ed52-4176-b930-1cd98bf0d6a0",
   "metadata": {},
   "outputs": [
    {
     "data": {
      "text/html": [
       "<div>\n",
       "<style scoped>\n",
       "    .dataframe tbody tr th:only-of-type {\n",
       "        vertical-align: middle;\n",
       "    }\n",
       "\n",
       "    .dataframe tbody tr th {\n",
       "        vertical-align: top;\n",
       "    }\n",
       "\n",
       "    .dataframe thead th {\n",
       "        text-align: right;\n",
       "    }\n",
       "</style>\n",
       "<table border=\"1\" class=\"dataframe\">\n",
       "  <thead>\n",
       "    <tr style=\"text-align: right;\">\n",
       "      <th></th>\n",
       "      <th>Trade#</th>\n",
       "      <th>Side</th>\n",
       "      <th>Amount</th>\n",
       "      <th>Currency</th>\n",
       "      <th>Issue</th>\n",
       "      <th>Settle</th>\n",
       "      <th>Dlr Comp</th>\n",
       "      <th>Maturity</th>\n",
       "      <th>Sector</th>\n",
       "      <th>price</th>\n",
       "      <th>quote</th>\n",
       "      <th>proceeds</th>\n",
       "      <th>quote_proceeds</th>\n",
       "      <th>adjusted_price</th>\n",
       "      <th>adjusted_proceeds</th>\n",
       "    </tr>\n",
       "  </thead>\n",
       "  <tbody>\n",
       "    <tr>\n",
       "      <th>0</th>\n",
       "      <td>1</td>\n",
       "      <td>B</td>\n",
       "      <td>2500000.0</td>\n",
       "      <td>EU</td>\n",
       "      <td>BMW 0.875 17/11/20</td>\n",
       "      <td>14/10/2020</td>\n",
       "      <td>3</td>\n",
       "      <td>17/11/2020</td>\n",
       "      <td>Auto</td>\n",
       "      <td>100.84</td>\n",
       "      <td>101.96</td>\n",
       "      <td>2521000.0</td>\n",
       "      <td>2549000.0</td>\n",
       "      <td>100.862051</td>\n",
       "      <td>2.521551e+06</td>\n",
       "    </tr>\n",
       "    <tr>\n",
       "      <th>1</th>\n",
       "      <td>2</td>\n",
       "      <td>B</td>\n",
       "      <td>1200000.0</td>\n",
       "      <td>EU</td>\n",
       "      <td>AMXLMM 6.375 06/09/23</td>\n",
       "      <td>20/10/2020</td>\n",
       "      <td>3</td>\n",
       "      <td>06/09/2020</td>\n",
       "      <td>LatAm</td>\n",
       "      <td>99.76</td>\n",
       "      <td>98.23</td>\n",
       "      <td>1197120.0</td>\n",
       "      <td>1178760.0</td>\n",
       "      <td>99.781815</td>\n",
       "      <td>1.197382e+06</td>\n",
       "    </tr>\n",
       "    <tr>\n",
       "      <th>2</th>\n",
       "      <td>3</td>\n",
       "      <td>S</td>\n",
       "      <td>-1000000.0</td>\n",
       "      <td>EU</td>\n",
       "      <td>ARDFIN 5.0 30/06/27</td>\n",
       "      <td>13/10/2020</td>\n",
       "      <td>3</td>\n",
       "      <td>30/06/2027</td>\n",
       "      <td>HY</td>\n",
       "      <td>101.86</td>\n",
       "      <td>99.72</td>\n",
       "      <td>-1018600.0</td>\n",
       "      <td>-997200.0</td>\n",
       "      <td>101.882274</td>\n",
       "      <td>-1.018823e+06</td>\n",
       "    </tr>\n",
       "    <tr>\n",
       "      <th>3</th>\n",
       "      <td>4</td>\n",
       "      <td>B</td>\n",
       "      <td>1500000.0</td>\n",
       "      <td>EU</td>\n",
       "      <td>ARGID 2.125 15/08/26</td>\n",
       "      <td>13/10/2020</td>\n",
       "      <td>3</td>\n",
       "      <td>15/08/2026</td>\n",
       "      <td>HY</td>\n",
       "      <td>99.53</td>\n",
       "      <td>98.81</td>\n",
       "      <td>1492950.0</td>\n",
       "      <td>1482150.0</td>\n",
       "      <td>99.551764</td>\n",
       "      <td>1.493276e+06</td>\n",
       "    </tr>\n",
       "    <tr>\n",
       "      <th>4</th>\n",
       "      <td>5</td>\n",
       "      <td>B</td>\n",
       "      <td>1000000.0</td>\n",
       "      <td>EU</td>\n",
       "      <td>ATALIA 4.0 15/05/24</td>\n",
       "      <td>13/10/2020</td>\n",
       "      <td>3</td>\n",
       "      <td>15/05/2024</td>\n",
       "      <td>HY</td>\n",
       "      <td>99.85</td>\n",
       "      <td>100.04</td>\n",
       "      <td>998500.0</td>\n",
       "      <td>1000400.0</td>\n",
       "      <td>99.871834</td>\n",
       "      <td>9.987183e+05</td>\n",
       "    </tr>\n",
       "    <tr>\n",
       "      <th>5</th>\n",
       "      <td>6</td>\n",
       "      <td>S</td>\n",
       "      <td>-1000000.0</td>\n",
       "      <td>EU</td>\n",
       "      <td>BLL 4.375 15/12/23</td>\n",
       "      <td>13/10/2020</td>\n",
       "      <td>3</td>\n",
       "      <td>15/12/2023</td>\n",
       "      <td>HY</td>\n",
       "      <td>98.51</td>\n",
       "      <td>101.62</td>\n",
       "      <td>-985100.0</td>\n",
       "      <td>-1016200.0</td>\n",
       "      <td>98.531541</td>\n",
       "      <td>-9.853154e+05</td>\n",
       "    </tr>\n",
       "    <tr>\n",
       "      <th>6</th>\n",
       "      <td>7</td>\n",
       "      <td>B</td>\n",
       "      <td>1000000.0</td>\n",
       "      <td>EU</td>\n",
       "      <td>BLL 0.875 15/03/24</td>\n",
       "      <td>13/10/2020</td>\n",
       "      <td>3</td>\n",
       "      <td>15/03/2024</td>\n",
       "      <td>HY</td>\n",
       "      <td>100.74</td>\n",
       "      <td>101.75</td>\n",
       "      <td>1007400.0</td>\n",
       "      <td>1017500.0</td>\n",
       "      <td>100.762029</td>\n",
       "      <td>1.007620e+06</td>\n",
       "    </tr>\n",
       "  </tbody>\n",
       "</table>\n",
       "</div>"
      ],
      "text/plain": [
       "   Trade# Side     Amount Currency                  Issue      Settle  \\\n",
       "0       1    B  2500000.0       EU     BMW 0.875 17/11/20  14/10/2020   \n",
       "1       2    B  1200000.0       EU  AMXLMM 6.375 06/09/23  20/10/2020   \n",
       "2       3    S -1000000.0       EU    ARDFIN 5.0 30/06/27  13/10/2020   \n",
       "3       4    B  1500000.0       EU   ARGID 2.125 15/08/26  13/10/2020   \n",
       "4       5    B  1000000.0       EU    ATALIA 4.0 15/05/24  13/10/2020   \n",
       "5       6    S -1000000.0       EU     BLL 4.375 15/12/23  13/10/2020   \n",
       "6       7    B  1000000.0       EU     BLL 0.875 15/03/24  13/10/2020   \n",
       "\n",
       "   Dlr Comp    Maturity Sector   price   quote   proceeds  quote_proceeds  \\\n",
       "0         3  17/11/2020   Auto  100.84  101.96  2521000.0       2549000.0   \n",
       "1         3  06/09/2020  LatAm   99.76   98.23  1197120.0       1178760.0   \n",
       "2         3  30/06/2027     HY  101.86   99.72 -1018600.0       -997200.0   \n",
       "3         3  15/08/2026     HY   99.53   98.81  1492950.0       1482150.0   \n",
       "4         3  15/05/2024     HY   99.85  100.04   998500.0       1000400.0   \n",
       "5         3  15/12/2023     HY   98.51  101.62  -985100.0      -1016200.0   \n",
       "6         3  15/03/2024     HY  100.74  101.75  1007400.0       1017500.0   \n",
       "\n",
       "   adjusted_price  adjusted_proceeds  \n",
       "0      100.862051       2.521551e+06  \n",
       "1       99.781815       1.197382e+06  \n",
       "2      101.882274      -1.018823e+06  \n",
       "3       99.551764       1.493276e+06  \n",
       "4       99.871834       9.987183e+05  \n",
       "5       98.531541      -9.853154e+05  \n",
       "6      100.762029       1.007620e+06  "
      ]
     },
     "execution_count": 37,
     "metadata": {},
     "output_type": "execute_result"
    }
   ],
   "source": [
    "df"
   ]
  },
  {
   "cell_type": "code",
   "execution_count": 38,
   "id": "52fa00e2-b877-4cb3-abe8-15fa118170d3",
   "metadata": {},
   "outputs": [
    {
     "data": {
      "text/plain": [
       "5214410.0"
      ]
     },
     "execution_count": 38,
     "metadata": {},
     "output_type": "execute_result"
    }
   ],
   "source": [
    "df['quote_proceeds'].sum()"
   ]
  },
  {
   "cell_type": "code",
   "execution_count": 39,
   "id": "5b44d619-e164-40f6-9959-74771b0bf10e",
   "metadata": {},
   "outputs": [
    {
     "data": {
      "text/plain": [
       "5213270.0"
      ]
     },
     "execution_count": 39,
     "metadata": {},
     "output_type": "execute_result"
    }
   ],
   "source": [
    "df['proceeds'].sum()"
   ]
  },
  {
   "cell_type": "code",
   "execution_count": 40,
   "id": "697e40a5-6ffa-4bc4-9a25-f7c674ddf4dd",
   "metadata": {},
   "outputs": [
    {
     "data": {
      "text/plain": [
       "5214409.999999999"
      ]
     },
     "execution_count": 40,
     "metadata": {},
     "output_type": "execute_result"
    }
   ],
   "source": [
    "df['adjusted_proceeds'].sum()"
   ]
  },
  {
   "cell_type": "markdown",
   "id": "6a86cc7e-8fbf-4236-a317-87c458a2ab20",
   "metadata": {},
   "source": [
    "### Calculate quote from allocated"
   ]
  },
  {
   "cell_type": "code",
   "execution_count": 41,
   "id": "4e62e6c4-04d2-41a8-8c65-3085c4d1f1a8",
   "metadata": {},
   "outputs": [],
   "source": [
    "df = pd.read_csv('pt.csv')\n",
    "df['price'] = 100 + ((np.random.randint(low=0, high=400, size=len(df)) - 200) / 100)\n",
    "df['Amount'] = df['Amount'] * 1e6\n",
    "df.loc[df['Side'] == 'S', 'Amount'] = -df.loc[df['Side'] == 'S', 'Amount'] \n",
    "df['proceeds'] = df['price'] * df['Amount'] / 100\n",
    "\n",
    "\n"
   ]
  }
 ],
 "metadata": {
  "kernelspec": {
   "display_name": "Python 3 (ipykernel)",
   "language": "python",
   "name": "python3"
  },
  "language_info": {
   "codemirror_mode": {
    "name": "ipython",
    "version": 3
   },
   "file_extension": ".py",
   "mimetype": "text/x-python",
   "name": "python",
   "nbconvert_exporter": "python",
   "pygments_lexer": "ipython3",
   "version": "3.10.4"
  }
 },
 "nbformat": 4,
 "nbformat_minor": 5
}
